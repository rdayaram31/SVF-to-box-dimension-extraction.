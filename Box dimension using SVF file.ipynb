{
 "cells": [
  {
   "cell_type": "code",
   "execution_count": 17,
   "id": "f2d8f91b",
   "metadata": {},
   "outputs": [],
   "source": [
    "# defining the function to read the box boundry\n",
    "def box_dimension(file):\n",
    "    # importing the necessory library\n",
    "    import pandas as pd\n",
    "    import zipfile\n",
    "    \n",
    "    data=[]\n",
    "    with zipfile.ZipFile(file) as thezip:\n",
    "        with thezip.open('metadata.json',mode='r') as metafile:\n",
    "            content = metafile.readlines()\n",
    "            for x in content:\n",
    "                data.append(x.decode(\"utf-8\"))\n",
    "    xyzmin=data[10].replace(\"\\t\",\"\").replace(\"\\n\",\"\").replace(\",\",\"\").replace(\":[\",\" \").replace(\"]\",\"\").split()\n",
    "    xyzmax=data[11].replace(\"\\t\",\"\").replace(\"\\n\",\"\").replace(\",\",\"\").replace(\":[\",\" \").replace(\"]\",\"\").split()\n",
    "    unit=data[23].replace(\"\\t\",\"\").replace(\"\\n\",\"\").replace('\"',\"\").split(\":\")\n",
    "    #     Calculate the distance\n",
    "    def measure(min_,max_):\n",
    "        dist = float(max_) - float(min_)\n",
    "        return dist\n",
    "\n",
    "    #     Finding the Box Dimension:\n",
    "    length = round(measure(xyzmin[1],xyzmax[1]),3)\n",
    "    width = round(measure(xyzmin[2],xyzmax[2]),3)\n",
    "    height = round(measure(xyzmin[3],xyzmax[3]),3)\n",
    "    return length, width, height ,unit[1]"
   ]
  },
  {
   "cell_type": "code",
   "execution_count": 18,
   "id": "8a39246a",
   "metadata": {},
   "outputs": [
    {
     "data": {
      "text/plain": [
       "(95.1, 39.0, 38.786, 'millimeter')"
      ]
     },
     "execution_count": 18,
     "metadata": {},
     "output_type": "execute_result"
    }
   ],
   "source": [
    "box_dimension(\"T2098.svf\")"
   ]
  },
  {
   "cell_type": "code",
   "execution_count": 19,
   "id": "1bab3a37",
   "metadata": {},
   "outputs": [
    {
     "data": {
      "text/plain": [
       "(1.5, 1.5, 1.5, 'inch')"
      ]
     },
     "execution_count": 19,
     "metadata": {},
     "output_type": "execute_result"
    }
   ],
   "source": [
    "box_dimension(\"T1489.svf\")"
   ]
  },
  {
   "cell_type": "code",
   "execution_count": 20,
   "id": "b192bb43",
   "metadata": {},
   "outputs": [
    {
     "data": {
      "text/plain": [
       "(0.017, 0.137, 0.03, 'meter')"
      ]
     },
     "execution_count": 20,
     "metadata": {},
     "output_type": "execute_result"
    }
   ],
   "source": [
    "box_dimension(\"T2127.svf\")"
   ]
  },
  {
   "cell_type": "code",
   "execution_count": 21,
   "id": "dd81cc3c",
   "metadata": {},
   "outputs": [
    {
     "data": {
      "text/plain": [
       "(0.019, 0.137, 0.03, 'meter')"
      ]
     },
     "execution_count": 21,
     "metadata": {},
     "output_type": "execute_result"
    }
   ],
   "source": [
    "box_dimension(\"T2128.svf\")"
   ]
  },
  {
   "cell_type": "code",
   "execution_count": null,
   "id": "d4f48314",
   "metadata": {},
   "outputs": [],
   "source": []
  }
 ],
 "metadata": {
  "kernelspec": {
   "display_name": "Python 3 (ipykernel)",
   "language": "python",
   "name": "python3"
  },
  "language_info": {
   "codemirror_mode": {
    "name": "ipython",
    "version": 3
   },
   "file_extension": ".py",
   "mimetype": "text/x-python",
   "name": "python",
   "nbconvert_exporter": "python",
   "pygments_lexer": "ipython3",
   "version": "3.9.7"
  }
 },
 "nbformat": 4,
 "nbformat_minor": 5
}
